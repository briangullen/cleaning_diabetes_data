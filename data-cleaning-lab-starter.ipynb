{
 "cells": [
  {
   "cell_type": "markdown",
   "metadata": {},
   "source": [
    "# Pima Data cleaning\n",
    "\n"
   ]
  },
  {
   "cell_type": "code",
   "execution_count": 107,
   "metadata": {},
   "outputs": [],
   "source": [
    "# Import Modules Here\n",
    "import pandas as pd"
   ]
  },
  {
   "cell_type": "markdown",
   "metadata": {},
   "source": [
    "## Part 1: Read the Data into Jupyter"
   ]
  },
  {
   "cell_type": "code",
   "execution_count": 110,
   "metadata": {},
   "outputs": [],
   "source": [
    "# Read the data into a dataframe named pima_df.\n",
    "pima_df = pd.read_csv('diabetes_uncleaned_data.csv')"
   ]
  },
  {
   "cell_type": "markdown",
   "metadata": {},
   "source": [
    "## Part 2: Missing Data"
   ]
  },
  {
   "cell_type": "code",
   "execution_count": 113,
   "metadata": {},
   "outputs": [
    {
     "data": {
      "text/plain": [
       "Pregnancies                 114\n",
       "Glucose                      16\n",
       "BloodPressure                22\n",
       "SkinThickness                 0\n",
       "Insulin                       0\n",
       "BMI                           1\n",
       "DiabetesPedigreeFunction      0\n",
       "Age                          22\n",
       "Outcome                       0\n",
       "dtype: int64"
      ]
     },
     "execution_count": 113,
     "metadata": {},
     "output_type": "execute_result"
    }
   ],
   "source": [
    "#Question 1:  Find Columns with missing data\n",
    "pima_df.isna().sum()"
   ]
  },
  {
   "cell_type": "code",
   "execution_count": 115,
   "metadata": {},
   "outputs": [
    {
     "data": {
      "text/html": [
       "<div>\n",
       "<style scoped>\n",
       "    .dataframe tbody tr th:only-of-type {\n",
       "        vertical-align: middle;\n",
       "    }\n",
       "\n",
       "    .dataframe tbody tr th {\n",
       "        vertical-align: top;\n",
       "    }\n",
       "\n",
       "    .dataframe thead th {\n",
       "        text-align: right;\n",
       "    }\n",
       "</style>\n",
       "<table border=\"1\" class=\"dataframe\">\n",
       "  <thead>\n",
       "    <tr style=\"text-align: right;\">\n",
       "      <th></th>\n",
       "      <th>Pregnancies</th>\n",
       "      <th>Glucose</th>\n",
       "      <th>BloodPressure</th>\n",
       "      <th>SkinThickness</th>\n",
       "      <th>Insulin</th>\n",
       "      <th>BMI</th>\n",
       "      <th>DiabetesPedigreeFunction</th>\n",
       "      <th>Age</th>\n",
       "      <th>Outcome</th>\n",
       "    </tr>\n",
       "  </thead>\n",
       "  <tbody>\n",
       "    <tr>\n",
       "      <th>0</th>\n",
       "      <td>3.0</td>\n",
       "      <td>167.0</td>\n",
       "      <td>39</td>\n",
       "      <td>28</td>\n",
       "      <td>545</td>\n",
       "      <td>53.0</td>\n",
       "      <td>2.447</td>\n",
       "      <td>125.0</td>\n",
       "      <td>FALSE</td>\n",
       "    </tr>\n",
       "    <tr>\n",
       "      <th>1</th>\n",
       "      <td>13.0</td>\n",
       "      <td>151.0</td>\n",
       "      <td>107</td>\n",
       "      <td>38</td>\n",
       "      <td>10000</td>\n",
       "      <td>9.2</td>\n",
       "      <td>0.507</td>\n",
       "      <td>148.0</td>\n",
       "      <td>FALSE</td>\n",
       "    </tr>\n",
       "    <tr>\n",
       "      <th>2</th>\n",
       "      <td>8.0</td>\n",
       "      <td>59.0</td>\n",
       "      <td>109</td>\n",
       "      <td>18</td>\n",
       "      <td>739</td>\n",
       "      <td>59.1</td>\n",
       "      <td>1.769</td>\n",
       "      <td>91.0</td>\n",
       "      <td>TRUE</td>\n",
       "    </tr>\n",
       "    <tr>\n",
       "      <th>4</th>\n",
       "      <td>10.0</td>\n",
       "      <td>165.0</td>\n",
       "      <td>48</td>\n",
       "      <td>37</td>\n",
       "      <td>737</td>\n",
       "      <td>39.4</td>\n",
       "      <td>0.729</td>\n",
       "      <td>73.0</td>\n",
       "      <td>FALSE</td>\n",
       "    </tr>\n",
       "    <tr>\n",
       "      <th>5</th>\n",
       "      <td>-100.0</td>\n",
       "      <td>142.0</td>\n",
       "      <td>88</td>\n",
       "      <td>39</td>\n",
       "      <td>82</td>\n",
       "      <td>42.7</td>\n",
       "      <td>1.369</td>\n",
       "      <td>148.0</td>\n",
       "      <td>TRUE</td>\n",
       "    </tr>\n",
       "    <tr>\n",
       "      <th>...</th>\n",
       "      <td>...</td>\n",
       "      <td>...</td>\n",
       "      <td>...</td>\n",
       "      <td>...</td>\n",
       "      <td>...</td>\n",
       "      <td>...</td>\n",
       "      <td>...</td>\n",
       "      <td>...</td>\n",
       "      <td>...</td>\n",
       "    </tr>\n",
       "    <tr>\n",
       "      <th>998</th>\n",
       "      <td>6.0</td>\n",
       "      <td>110.0</td>\n",
       "      <td>26</td>\n",
       "      <td>27</td>\n",
       "      <td>590</td>\n",
       "      <td>20.8</td>\n",
       "      <td>1.185</td>\n",
       "      <td>95.0</td>\n",
       "      <td>FALSE</td>\n",
       "    </tr>\n",
       "    <tr>\n",
       "      <th>999</th>\n",
       "      <td>6.0</td>\n",
       "      <td>110.0</td>\n",
       "      <td>26</td>\n",
       "      <td>27</td>\n",
       "      <td>590</td>\n",
       "      <td>20.8</td>\n",
       "      <td>1.185</td>\n",
       "      <td>95.0</td>\n",
       "      <td>FALSE</td>\n",
       "    </tr>\n",
       "    <tr>\n",
       "      <th>1001</th>\n",
       "      <td>4.0</td>\n",
       "      <td>80.0</td>\n",
       "      <td>24</td>\n",
       "      <td>6</td>\n",
       "      <td>268</td>\n",
       "      <td>48.9</td>\n",
       "      <td>0.989</td>\n",
       "      <td>81.0</td>\n",
       "      <td>TRUE</td>\n",
       "    </tr>\n",
       "    <tr>\n",
       "      <th>1002</th>\n",
       "      <td>3.0</td>\n",
       "      <td>142.0</td>\n",
       "      <td>Error</td>\n",
       "      <td>10</td>\n",
       "      <td>299</td>\n",
       "      <td>4.8</td>\n",
       "      <td>2.411</td>\n",
       "      <td>71.0</td>\n",
       "      <td>TRUE</td>\n",
       "    </tr>\n",
       "    <tr>\n",
       "      <th>1003</th>\n",
       "      <td>6.0</td>\n",
       "      <td>151.0</td>\n",
       "      <td>60</td>\n",
       "      <td>26</td>\n",
       "      <td>362</td>\n",
       "      <td>43.4</td>\n",
       "      <td>2.027</td>\n",
       "      <td>23.0</td>\n",
       "      <td>FALSE</td>\n",
       "    </tr>\n",
       "  </tbody>\n",
       "</table>\n",
       "<p>840 rows × 9 columns</p>\n",
       "</div>"
      ],
      "text/plain": [
       "      Pregnancies  Glucose BloodPressure  SkinThickness  Insulin   BMI  \\\n",
       "0             3.0    167.0            39             28      545  53.0   \n",
       "1            13.0    151.0           107             38    10000   9.2   \n",
       "2             8.0     59.0           109             18      739  59.1   \n",
       "4            10.0    165.0            48             37      737  39.4   \n",
       "5          -100.0    142.0            88             39       82  42.7   \n",
       "...           ...      ...           ...            ...      ...   ...   \n",
       "998           6.0    110.0            26             27      590  20.8   \n",
       "999           6.0    110.0            26             27      590  20.8   \n",
       "1001          4.0     80.0            24              6      268  48.9   \n",
       "1002          3.0    142.0         Error             10      299   4.8   \n",
       "1003          6.0    151.0            60             26      362  43.4   \n",
       "\n",
       "      DiabetesPedigreeFunction    Age Outcome  \n",
       "0                        2.447  125.0   FALSE  \n",
       "1                        0.507  148.0   FALSE  \n",
       "2                        1.769   91.0    TRUE  \n",
       "4                        0.729   73.0   FALSE  \n",
       "5                        1.369  148.0    TRUE  \n",
       "...                        ...    ...     ...  \n",
       "998                      1.185   95.0   FALSE  \n",
       "999                      1.185   95.0   FALSE  \n",
       "1001                     0.989   81.0    TRUE  \n",
       "1002                     2.411   71.0    TRUE  \n",
       "1003                     2.027   23.0   FALSE  \n",
       "\n",
       "[840 rows x 9 columns]"
      ]
     },
     "execution_count": 115,
     "metadata": {},
     "output_type": "execute_result"
    }
   ],
   "source": [
    "# Question 2:  Write code to remove rows with missing data and save the new dataframe as pima_missing_fixed_df\n",
    "# YOUR CODE HERE\n",
    "pima_missing_fixed_df = pima_df.dropna(how='any')\n",
    "pima_missing_fixed_df"
   ]
  },
  {
   "cell_type": "code",
   "execution_count": 117,
   "metadata": {},
   "outputs": [
    {
     "data": {
      "text/plain": [
       "840"
      ]
     },
     "execution_count": 117,
     "metadata": {},
     "output_type": "execute_result"
    }
   ],
   "source": [
    "# Question 3:  Print out the number of rows in the dataframe.\n",
    "pima_missing_fixed_df.shape[0]"
   ]
  },
  {
   "cell_type": "markdown",
   "metadata": {},
   "source": [
    "### Question 4:  Discuss why this could be a problem.  What other methods could you use in this situation? \n",
    "\n",
    "Missing data could be problematic because if data is unknown it can affect and skew data analysis and interpretation. Additionally, with missing data points data calculations such as mean, median, correlation coefficient, etc. will not be accurate which can cause bias when interpreting the results."
   ]
  },
  {
   "cell_type": "markdown",
   "metadata": {},
   "source": [
    "## Part 3: Duplicated Data"
   ]
  },
  {
   "cell_type": "code",
   "execution_count": 121,
   "metadata": {},
   "outputs": [
    {
     "data": {
      "text/html": [
       "<div>\n",
       "<style scoped>\n",
       "    .dataframe tbody tr th:only-of-type {\n",
       "        vertical-align: middle;\n",
       "    }\n",
       "\n",
       "    .dataframe tbody tr th {\n",
       "        vertical-align: top;\n",
       "    }\n",
       "\n",
       "    .dataframe thead th {\n",
       "        text-align: right;\n",
       "    }\n",
       "</style>\n",
       "<table border=\"1\" class=\"dataframe\">\n",
       "  <thead>\n",
       "    <tr style=\"text-align: right;\">\n",
       "      <th></th>\n",
       "      <th>Pregnancies</th>\n",
       "      <th>Glucose</th>\n",
       "      <th>BloodPressure</th>\n",
       "      <th>SkinThickness</th>\n",
       "      <th>Insulin</th>\n",
       "      <th>BMI</th>\n",
       "      <th>DiabetesPedigreeFunction</th>\n",
       "      <th>Age</th>\n",
       "      <th>Outcome</th>\n",
       "    </tr>\n",
       "  </thead>\n",
       "  <tbody>\n",
       "    <tr>\n",
       "      <th>925</th>\n",
       "      <td>6.0</td>\n",
       "      <td>39.0</td>\n",
       "      <td>46</td>\n",
       "      <td>2</td>\n",
       "      <td>287</td>\n",
       "      <td>40.4</td>\n",
       "      <td>2.394</td>\n",
       "      <td>60.0</td>\n",
       "      <td>TRUE</td>\n",
       "    </tr>\n",
       "    <tr>\n",
       "      <th>926</th>\n",
       "      <td>10.0</td>\n",
       "      <td>67.0</td>\n",
       "      <td>39</td>\n",
       "      <td>12</td>\n",
       "      <td>168</td>\n",
       "      <td>53.4</td>\n",
       "      <td>0.162</td>\n",
       "      <td>71.0</td>\n",
       "      <td>FALSE</td>\n",
       "    </tr>\n",
       "    <tr>\n",
       "      <th>999</th>\n",
       "      <td>6.0</td>\n",
       "      <td>110.0</td>\n",
       "      <td>26</td>\n",
       "      <td>27</td>\n",
       "      <td>590</td>\n",
       "      <td>20.8</td>\n",
       "      <td>1.185</td>\n",
       "      <td>95.0</td>\n",
       "      <td>FALSE</td>\n",
       "    </tr>\n",
       "    <tr>\n",
       "      <th>1003</th>\n",
       "      <td>6.0</td>\n",
       "      <td>151.0</td>\n",
       "      <td>60</td>\n",
       "      <td>26</td>\n",
       "      <td>362</td>\n",
       "      <td>43.4</td>\n",
       "      <td>2.027</td>\n",
       "      <td>23.0</td>\n",
       "      <td>FALSE</td>\n",
       "    </tr>\n",
       "  </tbody>\n",
       "</table>\n",
       "</div>"
      ],
      "text/plain": [
       "      Pregnancies  Glucose BloodPressure  SkinThickness  Insulin   BMI  \\\n",
       "925           6.0     39.0            46              2      287  40.4   \n",
       "926          10.0     67.0            39             12      168  53.4   \n",
       "999           6.0    110.0            26             27      590  20.8   \n",
       "1003          6.0    151.0            60             26      362  43.4   \n",
       "\n",
       "      DiabetesPedigreeFunction   Age Outcome  \n",
       "925                      2.394  60.0    TRUE  \n",
       "926                      0.162  71.0   FALSE  \n",
       "999                      1.185  95.0   FALSE  \n",
       "1003                     2.027  23.0   FALSE  "
      ]
     },
     "execution_count": 121,
     "metadata": {},
     "output_type": "execute_result"
    }
   ],
   "source": [
    "# Question 1:  In your Jupyter Notebook, find the rows of duplicated data in the pima_missing_fixed_df and print them.  \n",
    "pima_missing_fixed_df[pima_missing_fixed_df.duplicated()]"
   ]
  },
  {
   "cell_type": "code",
   "execution_count": 123,
   "metadata": {},
   "outputs": [],
   "source": [
    "# Question 2:  Write code to remove the duplicate rows and save the new dataframe as pima_dedupped_df\n",
    "pima_dedupped_df = pima_missing_fixed_df.drop_duplicates(keep='last')"
   ]
  },
  {
   "cell_type": "code",
   "execution_count": 125,
   "metadata": {},
   "outputs": [
    {
     "data": {
      "text/plain": [
       "836"
      ]
     },
     "execution_count": 125,
     "metadata": {},
     "output_type": "execute_result"
    }
   ],
   "source": [
    "# Question 3:  Print out the number of rows in the dataframe.\n",
    "pima_dedupped_df.shape[0]"
   ]
  },
  {
   "cell_type": "markdown",
   "metadata": {},
   "source": [
    "### Question 4:  In your jupyter notebook, discuss why this could be a problem.\n",
    "### What other methods could you use in this situation? \n",
    "\n",
    "Duplicate data is problematic because it can effect data calculation and interpretation. This can have an impact on interpreting items such as correlation what duplicate data points cause a correlation to be stronger or weaker than it is in reality. "
   ]
  },
  {
   "cell_type": "markdown",
   "metadata": {},
   "source": [
    "## Part 4: Mis-typed Columns/Broken Data\n"
   ]
  },
  {
   "cell_type": "code",
   "execution_count": 129,
   "metadata": {},
   "outputs": [
    {
     "name": "stdout",
     "output_type": "stream",
     "text": [
      "<class 'pandas.core.frame.DataFrame'>\n",
      "Index: 836 entries, 0 to 1003\n",
      "Data columns (total 9 columns):\n",
      " #   Column                    Non-Null Count  Dtype  \n",
      "---  ------                    --------------  -----  \n",
      " 0   Pregnancies               836 non-null    float64\n",
      " 1   Glucose                   836 non-null    float64\n",
      " 2   BloodPressure             836 non-null    object \n",
      " 3   SkinThickness             836 non-null    int64  \n",
      " 4   Insulin                   836 non-null    int64  \n",
      " 5   BMI                       836 non-null    object \n",
      " 6   DiabetesPedigreeFunction  836 non-null    float64\n",
      " 7   Age                       836 non-null    float64\n",
      " 8   Outcome                   836 non-null    object \n",
      "dtypes: float64(4), int64(2), object(3)\n",
      "memory usage: 65.3+ KB\n"
     ]
    }
   ],
   "source": [
    "# Question 1: find the columns where most of the data seems to be one type of data, and there seems to be a data error. In the markdown, after exploring in code, add a markdown cell discussing which columns have the data error. \n",
    "# pima_dedupped_df['Outcome'].value_counts() : 1 error\n",
    "# pima_dedupped_df['BloodPressure'].value_counts() : 2 errors\n",
    "pima_dedupped_df.info()"
   ]
  },
  {
   "cell_type": "markdown",
   "metadata": {},
   "source": [
    "Discussion about data errors\n",
    "There are a couple columns with data errors including \"BloodPressure\" and \"Outcome\"\n",
    "Additionally, BMI is set as an object and should probably be a float given the data presented"
   ]
  },
  {
   "cell_type": "code",
   "execution_count": 132,
   "metadata": {},
   "outputs": [
    {
     "data": {
      "text/plain": [
       "Outcome\n",
       "FALSE    441\n",
       "TRUE     391\n",
       "Name: count, dtype: int64"
      ]
     },
     "execution_count": 132,
     "metadata": {},
     "output_type": "execute_result"
    }
   ],
   "source": [
    "# pima_fixed_columns_df = pima_dedupped_df.loc[pima_dedupped_df['Outcome'] != 'ERROR', :]\n",
    "error_columns = (pima_dedupped_df.BloodPressure == 'Error') | (pima_dedupped_df.BMI == 'Error') | (pima_dedupped_df.Outcome == 'ERROR')\n",
    "pima_fixed_columns_df = pima_dedupped_df[~error_columns].copy()\n",
    "pima_fixed_columns_df.Outcome.value_counts()"
   ]
  },
  {
   "cell_type": "code",
   "execution_count": 134,
   "metadata": {},
   "outputs": [
    {
     "name": "stdout",
     "output_type": "stream",
     "text": [
      "<class 'pandas.core.frame.DataFrame'>\n",
      "Index: 832 entries, 0 to 1003\n",
      "Data columns (total 9 columns):\n",
      " #   Column                    Non-Null Count  Dtype  \n",
      "---  ------                    --------------  -----  \n",
      " 0   Pregnancies               832 non-null    float64\n",
      " 1   Glucose                   832 non-null    float64\n",
      " 2   BloodPressure             832 non-null    object \n",
      " 3   SkinThickness             832 non-null    int64  \n",
      " 4   Insulin                   832 non-null    int64  \n",
      " 5   BMI                       832 non-null    object \n",
      " 6   DiabetesPedigreeFunction  832 non-null    float64\n",
      " 7   Age                       832 non-null    float64\n",
      " 8   Outcome                   832 non-null    object \n",
      "dtypes: float64(4), int64(2), object(3)\n",
      "memory usage: 65.0+ KB\n"
     ]
    }
   ],
   "source": [
    "pima_fixed_columns_df.info()"
   ]
  },
  {
   "cell_type": "code",
   "execution_count": 136,
   "metadata": {},
   "outputs": [
    {
     "data": {
      "text/plain": [
       "Outcome\n",
       "FALSE    441\n",
       "TRUE     391\n",
       "Name: count, dtype: int64"
      ]
     },
     "execution_count": 136,
     "metadata": {},
     "output_type": "execute_result"
    }
   ],
   "source": [
    "pima_fixed_columns_df.Outcome.value_counts()"
   ]
  },
  {
   "cell_type": "code",
   "execution_count": 138,
   "metadata": {},
   "outputs": [],
   "source": [
    "pima_fixed_columns_df['BloodPressure'] = pima_fixed_columns_df.BloodPressure.apply(lambda x: int(x))\n",
    "pima_fixed_columns_df['BMI'] = pima_fixed_columns_df.BMI.apply(lambda x: float(x))"
   ]
  },
  {
   "cell_type": "code",
   "execution_count": 140,
   "metadata": {},
   "outputs": [
    {
     "name": "stdout",
     "output_type": "stream",
     "text": [
      "<class 'pandas.core.frame.DataFrame'>\n",
      "Index: 832 entries, 0 to 1003\n",
      "Data columns (total 9 columns):\n",
      " #   Column                    Non-Null Count  Dtype  \n",
      "---  ------                    --------------  -----  \n",
      " 0   Pregnancies               832 non-null    float64\n",
      " 1   Glucose                   832 non-null    float64\n",
      " 2   BloodPressure             832 non-null    int64  \n",
      " 3   SkinThickness             832 non-null    int64  \n",
      " 4   Insulin                   832 non-null    int64  \n",
      " 5   BMI                       832 non-null    float64\n",
      " 6   DiabetesPedigreeFunction  832 non-null    float64\n",
      " 7   Age                       832 non-null    float64\n",
      " 8   Outcome                   832 non-null    object \n",
      "dtypes: float64(5), int64(3), object(1)\n",
      "memory usage: 65.0+ KB\n"
     ]
    }
   ],
   "source": [
    "# Question 4: Run pima_fixed_columns_df.info() to confirm the columns have changed.\n",
    "pima_fixed_columns_df.info()"
   ]
  },
  {
   "cell_type": "markdown",
   "metadata": {},
   "source": [
    "## Part 5: Outlier Detection and Removal\n"
   ]
  },
  {
   "cell_type": "code",
   "execution_count": 143,
   "metadata": {},
   "outputs": [],
   "source": [
    "# Question 1: Print out the Outliers in each column in the pima_fixed_columns_df dataframe, use the IQR method of outlier detection.\n",
    "def is_outlier(column: pd.Series):\n",
    "    Q1 = column.quantile(0.25)\n",
    "    Q3 = column.quantile(0.75)\n",
    "    IQR = Q3 - Q1\n",
    "    lower_bound = Q1 - 1.5 * IQR \n",
    "    upper_bound = Q3 + 1.5 * IQR \n",
    "    return ~column.between(lower_bound, upper_bound)"
   ]
  },
  {
   "cell_type": "code",
   "execution_count": 145,
   "metadata": {},
   "outputs": [
    {
     "data": {
      "text/html": [
       "<div>\n",
       "<style scoped>\n",
       "    .dataframe tbody tr th:only-of-type {\n",
       "        vertical-align: middle;\n",
       "    }\n",
       "\n",
       "    .dataframe tbody tr th {\n",
       "        vertical-align: top;\n",
       "    }\n",
       "\n",
       "    .dataframe thead th {\n",
       "        text-align: right;\n",
       "    }\n",
       "</style>\n",
       "<table border=\"1\" class=\"dataframe\">\n",
       "  <thead>\n",
       "    <tr style=\"text-align: right;\">\n",
       "      <th></th>\n",
       "      <th>Pregnancies</th>\n",
       "      <th>Glucose</th>\n",
       "      <th>BloodPressure</th>\n",
       "      <th>SkinThickness</th>\n",
       "      <th>Insulin</th>\n",
       "      <th>BMI</th>\n",
       "      <th>DiabetesPedigreeFunction</th>\n",
       "      <th>Age</th>\n",
       "      <th>Outcome</th>\n",
       "    </tr>\n",
       "  </thead>\n",
       "  <tbody>\n",
       "    <tr>\n",
       "      <th>649</th>\n",
       "      <td>3.0</td>\n",
       "      <td>155.0</td>\n",
       "      <td>10000</td>\n",
       "      <td>35</td>\n",
       "      <td>748</td>\n",
       "      <td>32.6</td>\n",
       "      <td>0.098</td>\n",
       "      <td>85.0</td>\n",
       "      <td>TRUE</td>\n",
       "    </tr>\n",
       "    <tr>\n",
       "      <th>995</th>\n",
       "      <td>5.0</td>\n",
       "      <td>62.0</td>\n",
       "      <td>10000</td>\n",
       "      <td>13</td>\n",
       "      <td>412</td>\n",
       "      <td>48.7</td>\n",
       "      <td>0.267</td>\n",
       "      <td>101.0</td>\n",
       "      <td>FALSE</td>\n",
       "    </tr>\n",
       "  </tbody>\n",
       "</table>\n",
       "</div>"
      ],
      "text/plain": [
       "     Pregnancies  Glucose  BloodPressure  SkinThickness  Insulin   BMI  \\\n",
       "649          3.0    155.0          10000             35      748  32.6   \n",
       "995          5.0     62.0          10000             13      412  48.7   \n",
       "\n",
       "     DiabetesPedigreeFunction    Age Outcome  \n",
       "649                     0.098   85.0    TRUE  \n",
       "995                     0.267  101.0   FALSE  "
      ]
     },
     "execution_count": 145,
     "metadata": {},
     "output_type": "execute_result"
    }
   ],
   "source": [
    "pima_fixed_columns_df[is_outlier(pima_fixed_columns_df['BloodPressure'])]"
   ]
  },
  {
   "cell_type": "code",
   "execution_count": 147,
   "metadata": {},
   "outputs": [
    {
     "data": {
      "text/html": [
       "<div>\n",
       "<style scoped>\n",
       "    .dataframe tbody tr th:only-of-type {\n",
       "        vertical-align: middle;\n",
       "    }\n",
       "\n",
       "    .dataframe tbody tr th {\n",
       "        vertical-align: top;\n",
       "    }\n",
       "\n",
       "    .dataframe thead th {\n",
       "        text-align: right;\n",
       "    }\n",
       "</style>\n",
       "<table border=\"1\" class=\"dataframe\">\n",
       "  <thead>\n",
       "    <tr style=\"text-align: right;\">\n",
       "      <th></th>\n",
       "      <th>Pregnancies</th>\n",
       "      <th>Glucose</th>\n",
       "      <th>BloodPressure</th>\n",
       "      <th>SkinThickness</th>\n",
       "      <th>Insulin</th>\n",
       "      <th>BMI</th>\n",
       "      <th>DiabetesPedigreeFunction</th>\n",
       "      <th>Age</th>\n",
       "      <th>Outcome</th>\n",
       "    </tr>\n",
       "  </thead>\n",
       "  <tbody>\n",
       "  </tbody>\n",
       "</table>\n",
       "</div>"
      ],
      "text/plain": [
       "Empty DataFrame\n",
       "Columns: [Pregnancies, Glucose, BloodPressure, SkinThickness, Insulin, BMI, DiabetesPedigreeFunction, Age, Outcome]\n",
       "Index: []"
      ]
     },
     "execution_count": 147,
     "metadata": {},
     "output_type": "execute_result"
    }
   ],
   "source": [
    "pima_fixed_columns_df[is_outlier(pima_fixed_columns_df['Glucose'])]"
   ]
  },
  {
   "cell_type": "code",
   "execution_count": 149,
   "metadata": {},
   "outputs": [
    {
     "data": {
      "text/html": [
       "<div>\n",
       "<style scoped>\n",
       "    .dataframe tbody tr th:only-of-type {\n",
       "        vertical-align: middle;\n",
       "    }\n",
       "\n",
       "    .dataframe tbody tr th {\n",
       "        vertical-align: top;\n",
       "    }\n",
       "\n",
       "    .dataframe thead th {\n",
       "        text-align: right;\n",
       "    }\n",
       "</style>\n",
       "<table border=\"1\" class=\"dataframe\">\n",
       "  <thead>\n",
       "    <tr style=\"text-align: right;\">\n",
       "      <th></th>\n",
       "      <th>Pregnancies</th>\n",
       "      <th>Glucose</th>\n",
       "      <th>BloodPressure</th>\n",
       "      <th>SkinThickness</th>\n",
       "      <th>Insulin</th>\n",
       "      <th>BMI</th>\n",
       "      <th>DiabetesPedigreeFunction</th>\n",
       "      <th>Age</th>\n",
       "      <th>Outcome</th>\n",
       "    </tr>\n",
       "  </thead>\n",
       "  <tbody>\n",
       "    <tr>\n",
       "      <th>5</th>\n",
       "      <td>-100.0</td>\n",
       "      <td>142.0</td>\n",
       "      <td>88</td>\n",
       "      <td>39</td>\n",
       "      <td>82</td>\n",
       "      <td>42.7</td>\n",
       "      <td>1.369</td>\n",
       "      <td>148.0</td>\n",
       "      <td>TRUE</td>\n",
       "    </tr>\n",
       "  </tbody>\n",
       "</table>\n",
       "</div>"
      ],
      "text/plain": [
       "   Pregnancies  Glucose  BloodPressure  SkinThickness  Insulin   BMI  \\\n",
       "5       -100.0    142.0             88             39       82  42.7   \n",
       "\n",
       "   DiabetesPedigreeFunction    Age Outcome  \n",
       "5                     1.369  148.0    TRUE  "
      ]
     },
     "execution_count": 149,
     "metadata": {},
     "output_type": "execute_result"
    }
   ],
   "source": [
    "pima_fixed_columns_df[is_outlier(pima_fixed_columns_df['Pregnancies'])]"
   ]
  },
  {
   "cell_type": "code",
   "execution_count": 151,
   "metadata": {},
   "outputs": [
    {
     "data": {
      "text/html": [
       "<div>\n",
       "<style scoped>\n",
       "    .dataframe tbody tr th:only-of-type {\n",
       "        vertical-align: middle;\n",
       "    }\n",
       "\n",
       "    .dataframe tbody tr th {\n",
       "        vertical-align: top;\n",
       "    }\n",
       "\n",
       "    .dataframe thead th {\n",
       "        text-align: right;\n",
       "    }\n",
       "</style>\n",
       "<table border=\"1\" class=\"dataframe\">\n",
       "  <thead>\n",
       "    <tr style=\"text-align: right;\">\n",
       "      <th></th>\n",
       "      <th>Pregnancies</th>\n",
       "      <th>Glucose</th>\n",
       "      <th>BloodPressure</th>\n",
       "      <th>SkinThickness</th>\n",
       "      <th>Insulin</th>\n",
       "      <th>BMI</th>\n",
       "      <th>DiabetesPedigreeFunction</th>\n",
       "      <th>Age</th>\n",
       "      <th>Outcome</th>\n",
       "    </tr>\n",
       "  </thead>\n",
       "  <tbody>\n",
       "    <tr>\n",
       "      <th>1</th>\n",
       "      <td>13.0</td>\n",
       "      <td>151.0</td>\n",
       "      <td>107</td>\n",
       "      <td>38</td>\n",
       "      <td>10000</td>\n",
       "      <td>9.2</td>\n",
       "      <td>0.507</td>\n",
       "      <td>148.0</td>\n",
       "      <td>FALSE</td>\n",
       "    </tr>\n",
       "  </tbody>\n",
       "</table>\n",
       "</div>"
      ],
      "text/plain": [
       "   Pregnancies  Glucose  BloodPressure  SkinThickness  Insulin  BMI  \\\n",
       "1         13.0    151.0            107             38    10000  9.2   \n",
       "\n",
       "   DiabetesPedigreeFunction    Age Outcome  \n",
       "1                     0.507  148.0   FALSE  "
      ]
     },
     "execution_count": 151,
     "metadata": {},
     "output_type": "execute_result"
    }
   ],
   "source": [
    "pima_fixed_columns_df[is_outlier(pima_fixed_columns_df['Insulin'])]"
   ]
  },
  {
   "cell_type": "code",
   "execution_count": 153,
   "metadata": {},
   "outputs": [
    {
     "data": {
      "text/html": [
       "<div>\n",
       "<style scoped>\n",
       "    .dataframe tbody tr th:only-of-type {\n",
       "        vertical-align: middle;\n",
       "    }\n",
       "\n",
       "    .dataframe tbody tr th {\n",
       "        vertical-align: top;\n",
       "    }\n",
       "\n",
       "    .dataframe thead th {\n",
       "        text-align: right;\n",
       "    }\n",
       "</style>\n",
       "<table border=\"1\" class=\"dataframe\">\n",
       "  <thead>\n",
       "    <tr style=\"text-align: right;\">\n",
       "      <th></th>\n",
       "      <th>Pregnancies</th>\n",
       "      <th>Glucose</th>\n",
       "      <th>BloodPressure</th>\n",
       "      <th>SkinThickness</th>\n",
       "      <th>Insulin</th>\n",
       "      <th>BMI</th>\n",
       "      <th>DiabetesPedigreeFunction</th>\n",
       "      <th>Age</th>\n",
       "      <th>Outcome</th>\n",
       "    </tr>\n",
       "  </thead>\n",
       "  <tbody>\n",
       "  </tbody>\n",
       "</table>\n",
       "</div>"
      ],
      "text/plain": [
       "Empty DataFrame\n",
       "Columns: [Pregnancies, Glucose, BloodPressure, SkinThickness, Insulin, BMI, DiabetesPedigreeFunction, Age, Outcome]\n",
       "Index: []"
      ]
     },
     "execution_count": 153,
     "metadata": {},
     "output_type": "execute_result"
    }
   ],
   "source": [
    "pima_fixed_columns_df[is_outlier(pima_fixed_columns_df['SkinThickness'])]"
   ]
  },
  {
   "cell_type": "code",
   "execution_count": 155,
   "metadata": {},
   "outputs": [
    {
     "data": {
      "text/html": [
       "<div>\n",
       "<style scoped>\n",
       "    .dataframe tbody tr th:only-of-type {\n",
       "        vertical-align: middle;\n",
       "    }\n",
       "\n",
       "    .dataframe tbody tr th {\n",
       "        vertical-align: top;\n",
       "    }\n",
       "\n",
       "    .dataframe thead th {\n",
       "        text-align: right;\n",
       "    }\n",
       "</style>\n",
       "<table border=\"1\" class=\"dataframe\">\n",
       "  <thead>\n",
       "    <tr style=\"text-align: right;\">\n",
       "      <th></th>\n",
       "      <th>Pregnancies</th>\n",
       "      <th>Glucose</th>\n",
       "      <th>BloodPressure</th>\n",
       "      <th>SkinThickness</th>\n",
       "      <th>Insulin</th>\n",
       "      <th>BMI</th>\n",
       "      <th>DiabetesPedigreeFunction</th>\n",
       "      <th>Age</th>\n",
       "      <th>Outcome</th>\n",
       "    </tr>\n",
       "  </thead>\n",
       "  <tbody>\n",
       "  </tbody>\n",
       "</table>\n",
       "</div>"
      ],
      "text/plain": [
       "Empty DataFrame\n",
       "Columns: [Pregnancies, Glucose, BloodPressure, SkinThickness, Insulin, BMI, DiabetesPedigreeFunction, Age, Outcome]\n",
       "Index: []"
      ]
     },
     "execution_count": 155,
     "metadata": {},
     "output_type": "execute_result"
    }
   ],
   "source": [
    "pima_fixed_columns_df[is_outlier(pima_fixed_columns_df['BMI'])]"
   ]
  },
  {
   "cell_type": "code",
   "execution_count": 159,
   "metadata": {},
   "outputs": [],
   "source": [
    "# Question 2: Use loc to remove outliers in each of the columns that have outliers, save this as pima_outlier_removed_df.\n",
    "pima_fixed_columns_df = pima_fixed_columns_df[is_outlier(pima_fixed_columns_df['BloodPressure']) != True]\n",
    "pima_fixed_columns_df = pima_fixed_columns_df[is_outlier(pima_fixed_columns_df['Pregnancies']) != True]\n",
    "pima_fixed_columns_df = pima_fixed_columns_df[is_outlier(pima_fixed_columns_df['Insulin']) != True]\n",
    "pima_outlier_removed_df = pima_fixed_columns_df.copy()"
   ]
  },
  {
   "cell_type": "code",
   "execution_count": 161,
   "metadata": {},
   "outputs": [
    {
     "data": {
      "text/plain": [
       "828"
      ]
     },
     "execution_count": 161,
     "metadata": {},
     "output_type": "execute_result"
    }
   ],
   "source": [
    "# Question 3:  Print out the row count in the pima_outlier_removed_df and confirm this number is correct.\n",
    "pima_fixed_columns_df.shape[0]"
   ]
  },
  {
   "cell_type": "code",
   "execution_count": null,
   "metadata": {},
   "outputs": [],
   "source": []
  }
 ],
 "metadata": {
  "kernelspec": {
   "display_name": "Python 3 (ipykernel)",
   "language": "python",
   "name": "python3"
  },
  "language_info": {
   "codemirror_mode": {
    "name": "ipython",
    "version": 3
   },
   "file_extension": ".py",
   "mimetype": "text/x-python",
   "name": "python",
   "nbconvert_exporter": "python",
   "pygments_lexer": "ipython3",
   "version": "3.11.7"
  }
 },
 "nbformat": 4,
 "nbformat_minor": 4
}
